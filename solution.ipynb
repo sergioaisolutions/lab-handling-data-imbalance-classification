{
 "cells": [
  {
   "cell_type": "markdown",
   "source": [
    "## IMPORTING THE REQUIRED LIBRARIES"
   ],
   "metadata": {}
  },
  {
   "cell_type": "code",
   "execution_count": 1,
   "source": [
    "import pandas as pd\r\n",
    "\r\n",
    "from sklearn.model_selection import train_test_split\r\n",
    "from sklearn.preprocessing import StandardScaler\r\n",
    "\r\n",
    "from sklearn.linear_model import LogisticRegression\r\n",
    "from sklearn.tree import DecisionTreeClassifier\r\n",
    "\r\n",
    "from sklearn.metrics import accuracy_score, precision_score, recall_score, f1_score\r\n",
    "\r\n",
    "import mplcyberpunk\r\n",
    "import matplotlib.pyplot as plt\r\n",
    "import seaborn as sns\r\n",
    "\r\n",
    "from imblearn.over_sampling import SMOTE\r\n",
    "from imblearn.under_sampling import RandomUnderSampler"
   ],
   "outputs": [],
   "metadata": {}
  },
  {
   "cell_type": "markdown",
   "source": [
    "## IGNORING POSSIBLE WARNINGS THAT APPEARS IN THE NOTEBOOK"
   ],
   "metadata": {}
  },
  {
   "cell_type": "code",
   "execution_count": 2,
   "source": [
    "from warnings import simplefilter\r\n",
    "\r\n",
    "simplefilter(action = 'ignore', category = Warning)"
   ],
   "outputs": [],
   "metadata": {}
  },
  {
   "cell_type": "markdown",
   "source": [
    "## IMPORTING THE DATA"
   ],
   "metadata": {}
  },
  {
   "cell_type": "code",
   "execution_count": 3,
   "source": [
    "customer_churn = pd.read_csv('files_for_lab/customer_churn.csv')"
   ],
   "outputs": [],
   "metadata": {}
  },
  {
   "cell_type": "markdown",
   "source": [
    "## CONVERTING THE TOTAL CHARGES COLUMN TO NUMERIC"
   ],
   "metadata": {}
  },
  {
   "cell_type": "code",
   "execution_count": 4,
   "source": [
    "customer_churn['TotalCharges'] = pd.to_numeric(customer_churn['TotalCharges'], errors = 'coerce')"
   ],
   "outputs": [],
   "metadata": {}
  },
  {
   "cell_type": "markdown",
   "source": [
    "## ENCODING THE TARGET VARIABLE INTO 0 AND 1 VALUES"
   ],
   "metadata": {}
  },
  {
   "cell_type": "code",
   "execution_count": 5,
   "source": [
    "customer_churn['Churn'] = customer_churn['Churn'].replace({'No': 0, 'Yes': 1})"
   ],
   "outputs": [],
   "metadata": {}
  },
  {
   "cell_type": "markdown",
   "source": [
    "## CHECKING THE NULL VALUES IN THE DATAFRAME"
   ],
   "metadata": {}
  },
  {
   "cell_type": "code",
   "execution_count": 6,
   "source": [
    "print('\\nCOLUMNS WITH NAN VALUES')\r\n",
    "print('-----------------------\\n')\r\n",
    "\r\n",
    "for column in customer_churn.columns:\r\n",
    "    if customer_churn[column].isna().sum() > 0:\r\n",
    "        print(f'- {column} -> {customer_churn[column].isna().sum()}')"
   ],
   "outputs": [
    {
     "output_type": "stream",
     "name": "stdout",
     "text": [
      "\n",
      "COLUMNS WITH NAN VALUES\n",
      "-----------------------\n",
      "\n",
      "- TotalCharges -> 11\n"
     ]
    }
   ],
   "metadata": {}
  },
  {
   "cell_type": "markdown",
   "source": [
    "## PERFORMING THE DATA TRAIN TEST SPLIT STEP"
   ],
   "metadata": {}
  },
  {
   "cell_type": "code",
   "execution_count": 7,
   "source": [
    "X = customer_churn.drop('Churn', axis = 1)\r\n",
    "y = customer_churn['Churn']\r\n",
    "\r\n",
    "X_train, X_test, y_train, y_test = train_test_split(X, y, test_size = 0.20, random_state = 42)"
   ],
   "outputs": [],
   "metadata": {}
  },
  {
   "cell_type": "markdown",
   "source": [
    "## THERE IS ONLY ONE COLUMN WITH NAN VALUES: TOTAL CHARGES. REPLACING THEM WITH THE MEAN"
   ],
   "metadata": {}
  },
  {
   "cell_type": "code",
   "execution_count": 8,
   "source": [
    "total_charges_avg = X_train['TotalCharges'].mean()\r\n",
    "X_train['TotalCharges'] = X_train['TotalCharges'].fillna(total_charges_avg)\r\n",
    "X_test['TotalCharges'] = X_test['TotalCharges'].fillna(total_charges_avg)"
   ],
   "outputs": [],
   "metadata": {}
  },
  {
   "cell_type": "markdown",
   "source": [
    "## SELECTING THE INPUT VARIABLES THAT WE ARE GOING TO USE IN THE MODEL"
   ],
   "metadata": {}
  },
  {
   "cell_type": "code",
   "execution_count": 9,
   "source": [
    "X_train = X_train[['tenure', 'SeniorCitizen', 'MonthlyCharges', 'TotalCharges']]\r\n",
    "X_test = X_test[['tenure', 'SeniorCitizen', 'MonthlyCharges', 'TotalCharges']]"
   ],
   "outputs": [],
   "metadata": {}
  },
  {
   "cell_type": "markdown",
   "source": [
    "## SCALING ONLY THE CONTINUOUS DATA USING STANDARD SCALER"
   ],
   "metadata": {}
  },
  {
   "cell_type": "code",
   "execution_count": 10,
   "source": [
    "X_train_numeric = X_train[['tenure', 'MonthlyCharges', 'TotalCharges']]\r\n",
    "X_test_numeric = X_test[['tenure', 'MonthlyCharges', 'TotalCharges']]\r\n",
    "\r\n",
    "scaler = StandardScaler().fit(X_train_numeric)\r\n",
    "\r\n",
    "X_train_numeric_scaled = pd.DataFrame(data = scaler.transform(X_train_numeric), \r\n",
    "                                      columns = X_train_numeric.columns, \r\n",
    "                                      index = X_train.index)\r\n",
    "\r\n",
    "X_test_numeric_scaled = pd.DataFrame(data = scaler.transform(X_test_numeric), \r\n",
    "                                     columns = X_test_numeric.columns, \r\n",
    "                                     index = X_test.index)\r\n",
    "\r\n",
    "X_train_scaled = pd.concat([X_train_numeric_scaled, X_train['SeniorCitizen']], axis = 1)\r\n",
    "X_test_scaled = pd.concat([X_test_numeric_scaled, X_test['SeniorCitizen']], axis = 1)"
   ],
   "outputs": [],
   "metadata": {}
  },
  {
   "cell_type": "markdown",
   "source": [
    "## TRAINING A LOGISTIC REGRESSION MODEL"
   ],
   "metadata": {}
  },
  {
   "cell_type": "code",
   "execution_count": 11,
   "source": [
    "lr = LogisticRegression()\r\n",
    "lr.fit(X_train_scaled, y_train)"
   ],
   "outputs": [
    {
     "output_type": "execute_result",
     "data": {
      "text/plain": [
       "LogisticRegression()"
      ]
     },
     "metadata": {},
     "execution_count": 11
    }
   ],
   "metadata": {}
  },
  {
   "cell_type": "markdown",
   "source": [
    "## GENERATING THE METRICS AND THE RESULTS OF THE MODEL"
   ],
   "metadata": {}
  },
  {
   "cell_type": "code",
   "execution_count": 12,
   "source": [
    "def model_metrics(model, testing_x, testing_y):\r\n",
    "\r\n",
    "    predictions = model.predict(testing_x)\r\n",
    "\r\n",
    "    accuracy = accuracy_score(testing_y, predictions)\r\n",
    "    precision = precision_score(testing_y, predictions)\r\n",
    "    recall = recall_score(testing_y, predictions)\r\n",
    "    f1 = f1_score(testing_y, predictions)\r\n",
    "\r\n",
    "    return accuracy, precision, recall, f1\r\n",
    "\r\n",
    "model_accuracy, model_precision, model_recall, model_f1 = model_metrics(lr, X_test_scaled, y_test)"
   ],
   "outputs": [],
   "metadata": {}
  },
  {
   "cell_type": "markdown",
   "source": [
    "## EVALUATING THE PERFORMANCE OF THE MODEL"
   ],
   "metadata": {}
  },
  {
   "cell_type": "code",
   "execution_count": 13,
   "source": [
    "print('\\nLOGISTIC REGRESSION METRICS')\r\n",
    "print('---------------------------\\n')\r\n",
    "\r\n",
    "print(f'- Accuracy: {round(model_accuracy, 2)}')\r\n",
    "print(f'- Precision: {round(model_precision, 2)}')\r\n",
    "print(f'- Recall: {round(model_recall, 2)}')\r\n",
    "print(f'- F1: {round(model_f1, 2)}')"
   ],
   "outputs": [
    {
     "output_type": "stream",
     "name": "stdout",
     "text": [
      "\n",
      "LOGISTIC REGRESSION METRICS\n",
      "---------------------------\n",
      "\n",
      "- Accuracy: 0.81\n",
      "- Precision: 0.7\n",
      "- Recall: 0.48\n",
      "- F1: 0.57\n"
     ]
    }
   ],
   "metadata": {}
  },
  {
   "cell_type": "markdown",
   "source": [
    "## CHECKING THE IMBALANCE OF THE TARGET VARIABLE"
   ],
   "metadata": {}
  },
  {
   "cell_type": "code",
   "execution_count": 14,
   "source": [
    "plt.style.use(\"cyberpunk\")\r\n",
    "fig = plt.figure(figsize = (12, 8))\r\n",
    "plot = sns.countplot(x = 'Churn', data = customer_churn)\r\n",
    "\r\n",
    "for p in plot.patches:\r\n",
    "    plot.annotate(format(p.get_height(), '.0f'), (p.get_x() + p.get_width() / 2., p.get_height()), \r\n",
    "                  ha = 'center', va = 'center', xytext = (0, 10), \r\n",
    "                  textcoords = 'offset points')\r\n",
    "\r\n",
    "plt.title('Target class distribution - Churn', fontsize = 18)\r\n",
    "mplcyberpunk.add_glow_effects()\r\n",
    "plt.ylabel('Records')\r\n",
    "plt.show()"
   ],
   "outputs": [
    {
     "output_type": "display_data",
     "data": {
      "image/png": "[encoded data removed]",
      "text/plain": [
       "<Figure size 864x576 with 1 Axes>"
      ]
     },
     "metadata": {}
    }
   ],
   "metadata": {}
  },
  {
   "cell_type": "markdown",
   "source": [
    "## UPSAMPLING THE DATA TO SEE IF WE CAN INCREASE THE BALANCE OF OUR MODEL"
   ],
   "metadata": {}
  },
  {
   "cell_type": "code",
   "execution_count": 15,
   "source": [
    "def over_sampling(training_x, training_y):\r\n",
    "\r\n",
    "    smote = SMOTE(random_state = 100, k_neighbors = 3)\r\n",
    "    X_train_scaled_SMOTE, y_train_SMOTE = smote.fit_resample(training_x, training_y)\r\n",
    "\r\n",
    "    return X_train_scaled_SMOTE, y_train_SMOTE    \r\n",
    "\r\n",
    "X_train_scaled_SMOTE, y_train_SMOTE = over_sampling(X_train_scaled, y_train)"
   ],
   "outputs": [],
   "metadata": {}
  },
  {
   "cell_type": "markdown",
   "source": [
    "## CHECKING THE RESULTS USING THE OVERSAMPLING TECHNIQUE"
   ],
   "metadata": {}
  },
  {
   "cell_type": "code",
   "execution_count": 16,
   "source": [
    "lr_over = LogisticRegression()\r\n",
    "lr_over.fit(X_train_scaled_SMOTE, y_train_SMOTE)\r\n",
    "model_accuracy_ov, model_precision_ov, model_recall_ov, model_f1_ov = model_metrics(lr_over, X_test_scaled, y_test)\r\n",
    "\r\n",
    "print('\\nLOGISTIC REGRESSION METRICS - OVERSAMPLING')\r\n",
    "print('------------------------------------------\\n')\r\n",
    "\r\n",
    "print(f'- Accuracy: {round(model_accuracy_ov, 2)}')\r\n",
    "print(f'- Precision: {round(model_precision_ov, 2)}')\r\n",
    "print(f'- Recall: {round(model_recall_ov, 2)}')\r\n",
    "print(f'- F1: {round(model_f1_ov, 2)}')"
   ],
   "outputs": [
    {
     "output_type": "stream",
     "name": "stdout",
     "text": [
      "\n",
      "LOGISTIC REGRESSION METRICS - OVERSAMPLING\n",
      "------------------------------------------\n",
      "\n",
      "- Accuracy: 0.75\n",
      "- Precision: 0.51\n",
      "- Recall: 0.77\n",
      "- F1: 0.62\n"
     ]
    }
   ],
   "metadata": {}
  },
  {
   "cell_type": "markdown",
   "source": [
    "## UNDERSAMPLING THE DATA TO SEE IF WE CAN INCREASE THE BALANCE OF OUR MODEL"
   ],
   "metadata": {}
  },
  {
   "cell_type": "code",
   "execution_count": 17,
   "source": [
    "def under_sampling(training_x, training_y):\r\n",
    "\r\n",
    "    under_sampler = RandomUnderSampler(sampling_strategy = 0.5)\r\n",
    "    X_train_scaled_under, y_train_under = under_sampler.fit_resample(training_x, training_y)\r\n",
    "\r\n",
    "    return X_train_scaled_under, y_train_under  \r\n",
    "\r\n",
    "X_train_scaled_under, y_train_under = under_sampling(X_train_scaled, y_train)"
   ],
   "outputs": [],
   "metadata": {}
  },
  {
   "cell_type": "markdown",
   "source": [
    "## CHECKING THE RESULTS USING THE UNDERSAMPLING TECHNIQUE"
   ],
   "metadata": {}
  },
  {
   "cell_type": "code",
   "execution_count": 18,
   "source": [
    "lr_under = LogisticRegression()\r\n",
    "lr_under.fit(X_train_scaled_under, y_train_under)\r\n",
    "model_accuracy_un, model_precision_un, model_recall_un, model_f1_un = model_metrics(lr_under, X_test_scaled, y_test)\r\n",
    "\r\n",
    "print('\\nLOGISTIC REGRESSION METRICS - UNDERSAMPLING')\r\n",
    "print('-------------------------------------------\\n')\r\n",
    "\r\n",
    "print(f'- Accuracy: {round(model_accuracy_un, 2)}')\r\n",
    "print(f'- Precision: {round(model_precision_un, 2)}')\r\n",
    "print(f'- Recall: {round(model_recall_un, 2)}')\r\n",
    "print(f'- F1: {round(model_f1_un, 2)}')"
   ],
   "outputs": [
    {
     "output_type": "stream",
     "name": "stdout",
     "text": [
      "\n",
      "LOGISTIC REGRESSION METRICS - UNDERSAMPLING\n",
      "-------------------------------------------\n",
      "\n",
      "- Accuracy: 0.79\n",
      "- Precision: 0.61\n",
      "- Recall: 0.58\n",
      "- F1: 0.59\n"
     ]
    }
   ],
   "metadata": {}
  },
  {
   "cell_type": "markdown",
   "source": [
    "## TRAINING A DECISION TREE MODEL FOR THIS CLASSIFICATION PROBLEM"
   ],
   "metadata": {}
  },
  {
   "cell_type": "code",
   "execution_count": 19,
   "source": [
    "dt = DecisionTreeClassifier()\r\n",
    "dt.fit(X_train_scaled, y_train)\r\n",
    "model_accuracy_dt, model_precision_dt, model_recall_dt, model_f1_dt = model_metrics(dt, X_test_scaled, y_test)\r\n",
    "\r\n",
    "print('\\nDECISION TREE METRICS')\r\n",
    "print('---------------------\\n')\r\n",
    "\r\n",
    "print(f'- Accuracy: {round(model_accuracy_dt, 2)}')\r\n",
    "print(f'- Precision: {round(model_precision_dt, 2)}')\r\n",
    "print(f'- Recall: {round(model_recall_dt, 2)}')\r\n",
    "print(f'- F1: {round(model_f1_dt, 2)}')"
   ],
   "outputs": [
    {
     "output_type": "stream",
     "name": "stdout",
     "text": [
      "\n",
      "DECISION TREE METRICS\n",
      "---------------------\n",
      "\n",
      "- Accuracy: 0.73\n",
      "- Precision: 0.49\n",
      "- Recall: 0.51\n",
      "- F1: 0.5\n"
     ]
    }
   ],
   "metadata": {}
  },
  {
   "cell_type": "markdown",
   "source": [
    "## TRAINING A DECISION TREE MODEL FOR THIS CLASSIFICATION PROBLEM - OVERSAMPLING"
   ],
   "metadata": {}
  },
  {
   "cell_type": "code",
   "execution_count": 20,
   "source": [
    "dt_over = DecisionTreeClassifier()\r\n",
    "dt_over.fit(X_train_scaled_SMOTE, y_train_SMOTE)\r\n",
    "model_accuracy_dt_over, model_precision_dt_over, model_recall_dt_over, model_f1_dt_over = model_metrics(dt_over, X_test_scaled, y_test)\r\n",
    "\r\n",
    "print('\\nDECISION TREE METRICS - OVERSAMPLING')\r\n",
    "print('------------------------------------\\n')\r\n",
    "\r\n",
    "print(f'- Accuracy: {round(model_accuracy_dt_over, 2)}')\r\n",
    "print(f'- Precision: {round(model_precision_dt_over, 2)}')\r\n",
    "print(f'- Recall: {round(model_recall_dt_over, 2)}')\r\n",
    "print(f'- F1: {round(model_f1_dt_over, 2)}')"
   ],
   "outputs": [
    {
     "output_type": "stream",
     "name": "stdout",
     "text": [
      "\n",
      "DECISION TREE METRICS - OVERSAMPLING\n",
      "------------------------------------\n",
      "\n",
      "- Accuracy: 0.73\n",
      "- Precision: 0.49\n",
      "- Recall: 0.59\n",
      "- F1: 0.54\n"
     ]
    }
   ],
   "metadata": {}
  },
  {
   "cell_type": "markdown",
   "source": [
    "## TRAINING A DECISION TREE MODEL FOR THIS CLASSIFICATION PROBLEM - UNDERSAMPLING"
   ],
   "metadata": {}
  },
  {
   "cell_type": "code",
   "execution_count": 21,
   "source": [
    "dt_under = DecisionTreeClassifier()\r\n",
    "dt_under.fit(X_train_scaled_under, y_train_under)\r\n",
    "model_accuracy_dt_under, model_precision_dt_under, model_recall_dt_under, model_f1_dt_under = model_metrics(dt_under, X_test_scaled, y_test)\r\n",
    "\r\n",
    "print('\\nDECISION TREE METRICS - UNDERSAMPLING')\r\n",
    "print('-------------------------------------\\n')\r\n",
    "\r\n",
    "print(f'- Accuracy: {round(model_accuracy_dt_under, 2)}')\r\n",
    "print(f'- Precision: {round(model_precision_dt_under, 2)}')\r\n",
    "print(f'- Recall: {round(model_recall_dt_under, 2)}')\r\n",
    "print(f'- F1: {round(model_f1_dt_under, 2)}')"
   ],
   "outputs": [
    {
     "output_type": "stream",
     "name": "stdout",
     "text": [
      "\n",
      "DECISION TREE METRICS - UNDERSAMPLING\n",
      "-------------------------------------\n",
      "\n",
      "- Accuracy: 0.72\n",
      "- Precision: 0.48\n",
      "- Recall: 0.58\n",
      "- F1: 0.53\n"
     ]
    }
   ],
   "metadata": {}
  }
 ],
 "metadata": {
  "orig_nbformat": 4,
  "language_info": {
   "name": "python",
   "version": "3.7.6",
   "mimetype": "text/x-python",
   "codemirror_mode": {
    "name": "ipython",
    "version": 3
   },
   "pygments_lexer": "ipython3",
   "nbconvert_exporter": "python",
   "file_extension": ".py"
  },
  "kernelspec": {
   "name": "python3",
   "display_name": "Python 3.7.6 64-bit ('ironhack_environment': venv)"
  },
  "interpreter": {
   "hash": "df81bf56b2521791aaa0ff1ac8d57256f917b61d33ad24d6b6d13191d105bbf2"
  }
 },
 "nbformat": 4,
 "nbformat_minor": 2
}